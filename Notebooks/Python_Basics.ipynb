{
 "cells": [
  {
   "cell_type": "markdown",
   "metadata": {},
   "source": [
    "# Python Basics\n",
    "Most of these notes are built in Jupyter Notebook. So let's do a quick review of how to install Jupyter Notebook first. "
   ]
  },
  {
   "cell_type": "markdown",
   "metadata": {},
   "source": [
    "Jupyter Notebook is an open source web application that allows us to create and share code and documents. It is an interactive computing environment, which allows users to experiment with code and share it.\n",
    "\n",
    "![jupyter](https://miro.medium.com/max/756/0*AqFDoe9TNQQLmrl1.png)\n",
    "\n",
    "Take a close look from their web page: [https://jupyter.org/](https://jupyter.org/)\n",
    "\n",
    "Jupyter is the acronym for Julia, Python and R, the three programming languages Jupyter started with, although today it supports a large number of languages.\n",
    "It is widely used to create and share documents containing code. This is very useful in teaching, since we can show with examples how a script, a language works or ask students to propose and validate their own code.\n",
    "\n",
    "## Advantages of using Jupyter Notebook\n",
    "\n",
    "Provides an environment where you can log code, execute code, view results, visualize data, and view output results. These features make it a convenient tool for performing end-to-end data science workflows, which can be used for data cleansing, statistical modeling, creating and training machine learning models, data visualization, and many other purposes. When you are still prototyping a project, Jupyter Notebooks is really useful, because your code is written in a separate unit and runs separately. This allows users to test specific code blocks in the project without having to run the code from the beginning of the script. Jupyter Notebook is a web application that facilitates the creation and sharing of literary program documents. It supports real-time code, mathematical equations, visualization and Markdown. Its uses include data cleaning and conversion, numerical simulation, statistical modeling and machines. Studying and so on. Currently, the data in Kaggle, the most popular data mining competition, is in Jupyter format. For machine learning beginners, learning to use Jupyter Notebook is very important.\n",
    "\n",
    "## Jupyter Notebook vs Jupyter Lab\n",
    "\n",
    "Jupyter Notebook is an interactive web-based computational environment for creating Jupyter notebook documents. It supports several languages such as Python (IPython), Julia, R, etc. and is mainly used for data analysis, data visualization and more interactive exploratory computing. JupyterLab is the next generation user interface including laptops. It has a modular structure, where you can open multiple notebooks or files (e.g. HTML, text, Markdowns, etc.) as tabs in the same window. It offers a more IDE-like experience. For a beginner, it is advisable to start with Jupyter Notebook, as it only consists of a file explorer and an editor (notebook) view. It might be easier to use. If you want more features, switch to JupyterLab. JupyterLab offers many more features and an improved interface, which can be extended through extensions.\n",
    "\n",
    "To install Jupyter Notebook, please keep forward the next link: [https://docs.jupyter.org/en/latest/install/notebook-classic.html](https://docs.jupyter.org/en/latest/install/notebook-classic.html)"
   ]
  },
  {
   "cell_type": "markdown",
   "metadata": {},
   "source": [
    "Once JupyterLab is installed in our computer we can make use of it and exploit all the possibilities to write code and visualize at the same time what we are doing. It is a good starting point. Usually what I do is that I start writing code in JupyterLab and then, if necessary, I convert this notebook into a Python executable for speed and versatility.\n",
    "\n",
    "In data science, usually, we use libraries or write code to download, extract, consolidate, organize, optimize, analyze and visualize data and data manipulation results.  Let's start then with some basic notions and syntax of how to use Python for our purposes and also in general tasks. Python provides a good foundation for all our data science tasks.\n",
    "\n",
    "**_Let's do it!_**"
   ]
  },
  {
   "cell_type": "markdown",
   "metadata": {},
   "source": [
    "## What is Python?\n",
    "\n",
    "Python is a popular programming language. It was created by Guido van Rossum, and released in 1991.\n",
    "\n",
    "It is used for:\n",
    "- web development (server-side),\n",
    "- software development,\n",
    "- mathematics,\n",
    "- system scripting.\n",
    "\n",
    "## What can Python do?\n",
    "- Python can be used on a server to create web applications.\n",
    "- Python can be used alongside software to create workflows.\n",
    "- Python can connect to database systems. It can also read and modify files.\n",
    "- Python can be used to handle big data and perform complex mathematics.\n",
    "- Python can be used for rapid prototyping, or for production-ready software development.\n",
    "\n",
    "## Why Python?\n",
    "- Python works on different platforms (Windows, Mac, Linux, Raspberry Pi, etc).\n",
    "- Python has a simple syntax similar to the English language.\n",
    "- Python has syntax that allows developers to write programs with fewer lines than some other programming languages.\n",
    "- Python runs on an interpreter system, meaning that code can be executed as soon as it is written. This means that prototyping can be very quick.\n",
    "- Python can be treated in a procedural way, an object-oriented way or a functional way.\n"
   ]
  },
  {
   "cell_type": "markdown",
   "metadata": {},
   "source": [
    "Python syntax can be executed by writing directly in the Command Line:"
   ]
  },
  {
   "cell_type": "code",
   "execution_count": 1,
   "metadata": {},
   "outputs": [
    {
     "name": "stdout",
     "output_type": "stream",
     "text": [
      "Hello, World!\n"
     ]
    }
   ],
   "source": [
    "## Example: Try out yourself your first task, print \"Hello, World!\"\n",
    "print(\"Hello, World!\")"
   ]
  },
  {
   "cell_type": "markdown",
   "metadata": {},
   "source": [
    "## Creating a Comment\n",
    "Comments starts with a #, and Python will ignore them: "
   ]
  },
  {
   "cell_type": "code",
   "execution_count": 2,
   "metadata": {},
   "outputs": [
    {
     "name": "stdout",
     "output_type": "stream",
     "text": [
      "Hello, World!\n"
     ]
    }
   ],
   "source": [
    "#This is a comment\n",
    "print(\"Hello, World!\")"
   ]
  },
  {
   "cell_type": "markdown",
   "metadata": {},
   "source": [
    "Comments can be placed at the end of a line, and Python will ignore the rest of the line:"
   ]
  },
  {
   "cell_type": "code",
   "execution_count": 3,
   "metadata": {},
   "outputs": [
    {
     "name": "stdout",
     "output_type": "stream",
     "text": [
      "Hello, World!\n"
     ]
    }
   ],
   "source": [
    "print(\"Hello, World!\") #This is a comment"
   ]
  },
  {
   "cell_type": "markdown",
   "metadata": {},
   "source": [
    "A comment does not have to be text that explains the code, it can also be used to prevent Python from executing code:"
   ]
  },
  {
   "cell_type": "code",
   "execution_count": 4,
   "metadata": {},
   "outputs": [
    {
     "name": "stdout",
     "output_type": "stream",
     "text": [
      "Cheers, Beer!\n"
     ]
    }
   ],
   "source": [
    "#print(\"Hello, World!\")\n",
    "print(\"Cheers, Beer!\") "
   ]
  },
  {
   "cell_type": "markdown",
   "metadata": {},
   "source": [
    "### Multi Line Comments\n",
    "\n",
    "Python does not really have a syntax for multi line comments."
   ]
  },
  {
   "cell_type": "markdown",
   "metadata": {},
   "source": [
    "To add a multiline comment you could insert a # for each line:"
   ]
  },
  {
   "cell_type": "code",
   "execution_count": 5,
   "metadata": {},
   "outputs": [
    {
     "name": "stdout",
     "output_type": "stream",
     "text": [
      "Hello, World!\n"
     ]
    }
   ],
   "source": [
    "#This is a comment\n",
    "#written in\n",
    "#more than just one line\n",
    "print(\"Hello, World!\")"
   ]
  },
  {
   "cell_type": "markdown",
   "metadata": {},
   "source": [
    "Or, not quite as intended, you can use a multiline string."
   ]
  },
  {
   "cell_type": "markdown",
   "metadata": {},
   "source": [
    "Since Python will ignore string literals that are not assigned to a variable, you can add a multiline string (triple quotes) in your code, and place your comment inside it:"
   ]
  },
  {
   "cell_type": "code",
   "execution_count": 6,
   "metadata": {},
   "outputs": [
    {
     "name": "stdout",
     "output_type": "stream",
     "text": [
      "Hello, World!\n"
     ]
    }
   ],
   "source": [
    "\"\"\"\n",
    "This is a comment written in more than just one line\n",
    "\"\"\"\n",
    "print(\"Hello, World!\") "
   ]
  },
  {
   "cell_type": "markdown",
   "metadata": {},
   "source": [
    "## Python Variables\n",
    "Variables are containers for storing data values."
   ]
  },
  {
   "cell_type": "markdown",
   "metadata": {},
   "source": [
    "### Creating Variables\n",
    "Python has no command for declaring a variable. A variable is created the moment you first assign a value to it."
   ]
  },
  {
   "cell_type": "code",
   "execution_count": 7,
   "metadata": {},
   "outputs": [
    {
     "name": "stdout",
     "output_type": "stream",
     "text": [
      "562\n",
      "David\n"
     ]
    }
   ],
   "source": [
    "x = 562\n",
    "y = \"David\"\n",
    "print(x)\n",
    "print(y)"
   ]
  },
  {
   "cell_type": "markdown",
   "metadata": {},
   "source": [
    "Variables do not need to be declared with any particular type, and can even change type after they have been set."
   ]
  },
  {
   "cell_type": "code",
   "execution_count": 8,
   "metadata": {},
   "outputs": [
    {
     "name": "stdout",
     "output_type": "stream",
     "text": [
      "Sierra\n"
     ]
    }
   ],
   "source": [
    "x = 3467       # x is of type int\n",
    "x = \"Sierra\" # x is now of type str\n",
    "print(x)"
   ]
  },
  {
   "cell_type": "markdown",
   "metadata": {},
   "source": [
    "If you want to specify the data type of a variable, this can be done with casting."
   ]
  },
  {
   "cell_type": "code",
   "execution_count": 9,
   "metadata": {},
   "outputs": [
    {
     "name": "stdout",
     "output_type": "stream",
     "text": [
      "x = 3465 y = 8783 z = 3389.0\n"
     ]
    }
   ],
   "source": [
    "x = str(3465)    # x will be '3'\n",
    "y = int(8783)    # y will be 3\n",
    "z = float(3389)  # z will be 3.0 \n",
    "print(\"x =\",x, \"y =\",y, \"z =\",z)"
   ]
  },
  {
   "cell_type": "markdown",
   "metadata": {},
   "source": [
    "Or, you could directly print the variable trought the name without the command \"print\""
   ]
  },
  {
   "cell_type": "code",
   "execution_count": 10,
   "metadata": {},
   "outputs": [
    {
     "data": {
      "text/plain": [
       "'3465'"
      ]
     },
     "execution_count": 10,
     "metadata": {},
     "output_type": "execute_result"
    }
   ],
   "source": [
    "x"
   ]
  },
  {
   "cell_type": "markdown",
   "metadata": {},
   "source": [
    "- Many Values to Multiple Variables: Python allows you to assign values to multiple variables in one line:\n",
    "    - Note: Make sure the number of variables matches the number of values, or else you will get an error.\n",
    "- One Value to Multiple Variables: And you can assign the same value to multiple variables in one line.\n",
    "- Unpack a Collection: If you have a collection of values in a list, tuple etc. Python allows you extract the values into variables. This is called unpacking."
   ]
  },
  {
   "cell_type": "code",
   "execution_count": 11,
   "metadata": {},
   "outputs": [
    {
     "name": "stdout",
     "output_type": "stream",
     "text": [
      "x1 = Orange\n",
      "z1 = Banana\n",
      "z1 = Cherry\n",
      "x2 = Orange\n",
      "y2 = Orange\n",
      "z2 = Orange\n",
      "x3 = apple\n",
      "y3 = banana\n",
      "z3 = cherry\n"
     ]
    }
   ],
   "source": [
    "# Example 1\n",
    "x1, y1, z1 = \"Orange\", \"Banana\", \"Cherry\"\n",
    "print(\"x1 =\",x1)\n",
    "print(\"z1 =\",y1)\n",
    "print(\"z1 =\",z1)\n",
    "\n",
    "# Example 2\n",
    "x2 = y2 = z2 = \"Orange\"\n",
    "print(\"x2 =\",x2)\n",
    "print(\"y2 =\",y2)\n",
    "print(\"z2 =\",z2)\n",
    "\n",
    "# Example 3\n",
    "fruits = [\"apple\", \"banana\", \"cherry\"]\n",
    "x3, y3, z3 = fruits\n",
    "print(\"x3 =\",x3)\n",
    "print(\"y3 =\",y3)\n",
    "print(\"z3 =\",z3)"
   ]
  },
  {
   "cell_type": "markdown",
   "metadata": {},
   "source": [
    "- You can also use the + character to add a variable to another variable.\n",
    "- For numbers, the + character works as a mathematical operator.\n",
    "- If you try to combine a string and a number, Python will give you an error."
   ]
  },
  {
   "cell_type": "code",
   "execution_count": 12,
   "metadata": {},
   "outputs": [
    {
     "name": "stdout",
     "output_type": "stream",
     "text": [
      "Python is awesome\n"
     ]
    }
   ],
   "source": [
    "#Example\n",
    "x = \"Python is \"\n",
    "y = \"awesome\"\n",
    "z =  x + y\n",
    "print(z)"
   ]
  },
  {
   "cell_type": "code",
   "execution_count": 13,
   "metadata": {},
   "outputs": [
    {
     "name": "stdout",
     "output_type": "stream",
     "text": [
      "15\n"
     ]
    }
   ],
   "source": [
    "#Example\n",
    "x = 5\n",
    "y = 10\n",
    "print(x + y)"
   ]
  },
  {
   "cell_type": "code",
   "execution_count": 14,
   "metadata": {},
   "outputs": [
    {
     "ename": "TypeError",
     "evalue": "unsupported operand type(s) for +: 'int' and 'str'",
     "output_type": "error",
     "traceback": [
      "\u001b[0;31m---------------------------------------------------------------------------\u001b[0m",
      "\u001b[0;31mTypeError\u001b[0m                                 Traceback (most recent call last)",
      "\u001b[0;32m<ipython-input-14-6c53d93dc73b>\u001b[0m in \u001b[0;36m<module>\u001b[0;34m\u001b[0m\n\u001b[1;32m      2\u001b[0m \u001b[0mx\u001b[0m \u001b[0;34m=\u001b[0m \u001b[0;36m5\u001b[0m\u001b[0;34m\u001b[0m\u001b[0;34m\u001b[0m\u001b[0m\n\u001b[1;32m      3\u001b[0m \u001b[0my\u001b[0m \u001b[0;34m=\u001b[0m \u001b[0;34m\"John\"\u001b[0m\u001b[0;34m\u001b[0m\u001b[0;34m\u001b[0m\u001b[0m\n\u001b[0;32m----> 4\u001b[0;31m \u001b[0mprint\u001b[0m\u001b[0;34m(\u001b[0m\u001b[0mx\u001b[0m \u001b[0;34m+\u001b[0m \u001b[0my\u001b[0m\u001b[0;34m)\u001b[0m\u001b[0;34m\u001b[0m\u001b[0;34m\u001b[0m\u001b[0m\n\u001b[0m",
      "\u001b[0;31mTypeError\u001b[0m: unsupported operand type(s) for +: 'int' and 'str'"
     ]
    }
   ],
   "source": [
    "#Example\n",
    "x = 5\n",
    "y = \"John\"\n",
    "print(x + y)"
   ]
  },
  {
   "cell_type": "markdown",
   "metadata": {},
   "source": [
    "## Built-in Data Types\n",
    "\n",
    "In programming, data type is an important concept. Variables can store data of different types, and different types can do different things. Python has the following data types built-in by default, in these categories:\n",
    "- Text Type: |str\n",
    "- Numeric Types: |int, float, complex\n",
    "- Sequence Types: |list, tuple, range\n",
    "- Mapping Type: |dict\n",
    "- Set Types: |set, frozenset\n",
    "- Boolean Type: |bool\n",
    "- Binary Types: |bytes, bytearray, memoryview\n",
    "\n",
    "You can get the data type of any object by using the type() function:"
   ]
  },
  {
   "cell_type": "code",
   "execution_count": null,
   "metadata": {},
   "outputs": [],
   "source": [
    "#Example\n",
    "x1, y1, z1, u1, v1, w1, t1 = 583783, 0.0776, 4j+2, \"Some thing\", [\"one\", \"two\", \"three\"], (\"one\", \"two\", \"three\"), {\"one\", \"two\", \"three\"}\n",
    "x2, y2, z2, u2, v2, w2, t2 = True, False, dict(name=\"David\", age=43), {\"David\":43}, bytearray(5), memoryview(bytes(5)), int(20.5)\n",
    "for i in [x1, y1, z1, u1, w1, t1]:\n",
    "    print(\"Variable\", i, \"is type\", type(i))\n",
    "print(\"---------------\")\n",
    "for j in [x2, y2, z2, u2, v2, w2, t2]:\n",
    "    print(\"Variable\", j, \"is type\", type(j))"
   ]
  },
  {
   "cell_type": "markdown",
   "metadata": {},
   "source": [
    "## Boolean Values\n",
    "\n",
    "In programming you often need to know if an expression is True or False. You can evaluate any expression in Python, and get one of two answers, True or False. When you compare two values, the expression is evaluated and Python returns the Boolean answer."
   ]
  },
  {
   "cell_type": "code",
   "execution_count": null,
   "metadata": {},
   "outputs": [],
   "source": [
    "#Example\n",
    "print(\"10 > 9:\", 10 > 9)\n",
    "print(\"10 == 9:\", 10 == 9)\n",
    "print(\"10 < 9:\", 10 < 9) \n",
    "u, v, w, x = \"one\", \"two\", \"three\", \"Three\"\n",
    "print(\"one == two:\", u == v) \n",
    "print(\"three == three:\", w == w) \n",
    "print(\"three == Three:\", w == x) "
   ]
  },
  {
   "cell_type": "markdown",
   "metadata": {},
   "source": [
    "# Python Arithmetic Operators\n",
    "- Arithmetic operators are used with numeric values to perform common mathematical operations:\n",
    "| Operator | Name | Example || Operator | Name | Example | \n",
    "| --- | --- | --- || --- | --- | --- |\n",
    "| + | Addition | x + y || - | Subtraction | x - y |\n",
    "| * | Multiplication | x * y || / | Division | x / y |\n",
    "| ** | Exponentiation | x ** y || // | Floor division | x // y |\n",
    "| % | Modulus | x % y |\n",
    "\n",
    "- Python Assignment Operators. Assignment operators are used to assign values to variables:\n",
    "| Operator | Example | Same As || Operator | Example | Same As |\n",
    "| --- | --- | --- || --- | --- | --- |\n",
    "| = | x = 5 | x = 5 || += | x += 3 | x = x + 3 |\n",
    "| -= | x -= 3 | x = x - 3 || *= | x *= 3 | x = x * 3 |\n",
    "| /= | x /= 3 | x = x / 3 || %= | x %= 3 | x = x % 3 |\n",
    "| //= | x //= 3 | x = x // 3 || **= | x **= 3 | x = x ** 3 |\n",
    "| &= | x &= 3 | x = x & 3 || \\|= | x \\|= 3 | x = x \\| 3 |\n",
    "| ^= | x ^= 3 | x = x ^ 3 || >>= | x >>= 3 | x = x >> 3 |\n",
    "| <<= | x <<= 3 | x = x << 3 |\n",
    "\n",
    "- Python Comparison Operators. Comparison operators are used to compare two values.\n",
    "| Operator | Name | Example |\n",
    "| --- | --- | --- |\n",
    "== |Equal |x == y |\n",
    "!= |Not equal |x != y |\n",
    "> |Greater than |x > y |\n",
    "< |Less than |x < y |\n",
    ">= |Greater than or equal to |x >= y |\n",
    "<= |Less than or equal to |x <= y |\n",
    "Python Logical Operators\n",
    "\n",
    "- Logical operators are used to combine conditional statements. \n",
    "| Operator | Description | Example |\n",
    "| --- | --- | --- |\n",
    "and  |Returns True if both statements are true |x < 5 and  x < 10 |\n",
    "or |Returns True if one of the statements is true |x < 5 or x < 4 |\n",
    "not |Reverse the result, returns False if the result is true |not(x < 5 and x < 10) |\n",
    "Python Identity Operators\n",
    "\n",
    "- Identity operators are used to compare the objects, not if they are equal, but if they are actually the same object, with the same memory location.\n",
    "| Operator | Description | Example |\n",
    "| --- | --- | --- |\n",
    "is  |Returns True if both variables are the same object |x is y |\n",
    "is not |Returns True if both variables are not the same object |x is not y |\n",
    "Python Membership Operators\n",
    "\n",
    "- Membership operators are used to test if a sequence is presented in an object.\n",
    "| Operator | Description | Example |\n",
    "| --- | --- | --- |\n",
    "| in  |Returns True if a sequence with the specified value is present in the object |x in y |\n",
    "| not in |Returns True if a sequence with the specified value is not present in the object |x not in y |\n",
    "\n",
    "- Python Bitwise Operators. Bitwise operators are used to compare (binary) numbers.\n",
    "| Operator | Name | Description |\n",
    "| --- | --- | --- |\n",
    "| &  |AND |Sets each bit to 1 if both bits are 1\n",
    "| \\| | OR |Sets each bit to 1 if one of two bits is 1\n",
    "| ^ |XOR |Sets each bit to 1 if only one of two bits is 1\n",
    "| ~  |NOT |Inverts all the bits\n",
    "| << |Zero fill left shift |Shift left by pushing zeros in from the right and let the leftmost bits fall off\n",
    "| >> |Signed right shift |Shift right by pushing copies of the leftmost bit in from the left, and let the rightmost bits fall off"
   ]
  },
  {
   "cell_type": "code",
   "execution_count": null,
   "metadata": {},
   "outputs": [],
   "source": [
    "#Example\n"
   ]
  }
 ],
 "metadata": {
  "kernelspec": {
   "display_name": "Python 3",
   "language": "python",
   "name": "python3"
  },
  "language_info": {
   "codemirror_mode": {
    "name": "ipython",
    "version": 3
   },
   "file_extension": ".py",
   "mimetype": "text/x-python",
   "name": "python",
   "nbconvert_exporter": "python",
   "pygments_lexer": "ipython3",
   "version": "3.8.10"
  }
 },
 "nbformat": 4,
 "nbformat_minor": 4
}
